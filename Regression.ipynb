{
 "cells": [
  {
   "cell_type": "markdown",
   "metadata": {},
   "source": [
    "# Introductory Work\n",
    "The first thing that I want to do is to gain some insight on the data and see if there is truly a correlation between the 3 penny\n",
    "cryptocurrencies (statistically significant !)"
   ]
  },
  {
   "cell_type": "code",
   "execution_count": 2,
   "metadata": {},
   "outputs": [],
   "source": [
    "import pandas as pd\n",
    "from sklearn.linear_model import LinearRegression\n",
    "import matplotlib.pyplot as plt\n",
    "import numpy as np\n",
    "import seaborn as sns\n",
    "import math\n",
    "from statsmodels.stats import diagnostic\n",
    "from scipy import stats\n",
    "import statsmodels.api as sm\n",
    "import statsmodels.formula.api as smf"
   ]
  },
  {
   "cell_type": "markdown",
   "metadata": {},
   "source": [
    "We import our data"
   ]
  },
  {
   "cell_type": "code",
   "execution_count": 12,
   "metadata": {},
   "outputs": [
    {
     "data": {
      "text/html": [
       "<div>\n",
       "<style scoped>\n",
       "    .dataframe tbody tr th:only-of-type {\n",
       "        vertical-align: middle;\n",
       "    }\n",
       "\n",
       "    .dataframe tbody tr th {\n",
       "        vertical-align: top;\n",
       "    }\n",
       "\n",
       "    .dataframe thead th {\n",
       "        text-align: right;\n",
       "    }\n",
       "</style>\n",
       "<table border=\"1\" class=\"dataframe\">\n",
       "  <thead>\n",
       "    <tr style=\"text-align: right;\">\n",
       "      <th></th>\n",
       "      <th>open</th>\n",
       "      <th>high</th>\n",
       "      <th>low</th>\n",
       "      <th>close</th>\n",
       "      <th>volume</th>\n",
       "    </tr>\n",
       "    <tr>\n",
       "      <th>timestamp</th>\n",
       "      <th></th>\n",
       "      <th></th>\n",
       "      <th></th>\n",
       "      <th></th>\n",
       "      <th></th>\n",
       "    </tr>\n",
       "  </thead>\n",
       "  <tbody>\n",
       "    <tr>\n",
       "      <th>2019-11-04</th>\n",
       "      <td>0.01964</td>\n",
       "      <td>0.02014</td>\n",
       "      <td>0.01845</td>\n",
       "      <td>0.01980</td>\n",
       "      <td>913791526.6</td>\n",
       "    </tr>\n",
       "    <tr>\n",
       "      <th>2019-11-05</th>\n",
       "      <td>0.01979</td>\n",
       "      <td>0.02005</td>\n",
       "      <td>0.01928</td>\n",
       "      <td>0.01975</td>\n",
       "      <td>662033588.8</td>\n",
       "    </tr>\n",
       "    <tr>\n",
       "      <th>2019-11-06</th>\n",
       "      <td>0.01975</td>\n",
       "      <td>0.02077</td>\n",
       "      <td>0.01957</td>\n",
       "      <td>0.02013</td>\n",
       "      <td>910078675.3</td>\n",
       "    </tr>\n",
       "    <tr>\n",
       "      <th>2019-11-07</th>\n",
       "      <td>0.02014</td>\n",
       "      <td>0.02018</td>\n",
       "      <td>0.01891</td>\n",
       "      <td>0.01951</td>\n",
       "      <td>752675826.7</td>\n",
       "    </tr>\n",
       "    <tr>\n",
       "      <th>2019-11-08</th>\n",
       "      <td>0.01950</td>\n",
       "      <td>0.01975</td>\n",
       "      <td>0.01836</td>\n",
       "      <td>0.01876</td>\n",
       "      <td>714745312.5</td>\n",
       "    </tr>\n",
       "  </tbody>\n",
       "</table>\n",
       "</div>"
      ],
      "text/plain": [
       "               open     high      low    close       volume\n",
       "timestamp                                                  \n",
       "2019-11-04  0.01964  0.02014  0.01845  0.01980  913791526.6\n",
       "2019-11-05  0.01979  0.02005  0.01928  0.01975  662033588.8\n",
       "2019-11-06  0.01975  0.02077  0.01957  0.02013  910078675.3\n",
       "2019-11-07  0.02014  0.02018  0.01891  0.01951  752675826.7\n",
       "2019-11-08  0.01950  0.01975  0.01836  0.01876  714745312.5"
      ]
     },
     "metadata": {},
     "output_type": "display_data"
    },
    {
     "data": {
      "text/html": [
       "<div>\n",
       "<style scoped>\n",
       "    .dataframe tbody tr th:only-of-type {\n",
       "        vertical-align: middle;\n",
       "    }\n",
       "\n",
       "    .dataframe tbody tr th {\n",
       "        vertical-align: top;\n",
       "    }\n",
       "\n",
       "    .dataframe thead th {\n",
       "        text-align: right;\n",
       "    }\n",
       "</style>\n",
       "<table border=\"1\" class=\"dataframe\">\n",
       "  <thead>\n",
       "    <tr style=\"text-align: right;\">\n",
       "      <th></th>\n",
       "      <th>open</th>\n",
       "      <th>high</th>\n",
       "      <th>low</th>\n",
       "      <th>close</th>\n",
       "      <th>volume</th>\n",
       "    </tr>\n",
       "    <tr>\n",
       "      <th>timestamp</th>\n",
       "      <th></th>\n",
       "      <th></th>\n",
       "      <th></th>\n",
       "      <th></th>\n",
       "      <th></th>\n",
       "    </tr>\n",
       "  </thead>\n",
       "  <tbody>\n",
       "    <tr>\n",
       "      <th>2019-11-04</th>\n",
       "      <td>0.01354</td>\n",
       "      <td>0.01461</td>\n",
       "      <td>0.01351</td>\n",
       "      <td>0.01432</td>\n",
       "      <td>233424567.0</td>\n",
       "    </tr>\n",
       "    <tr>\n",
       "      <th>2019-11-05</th>\n",
       "      <td>0.01428</td>\n",
       "      <td>0.01514</td>\n",
       "      <td>0.01395</td>\n",
       "      <td>0.01470</td>\n",
       "      <td>267620780.1</td>\n",
       "    </tr>\n",
       "    <tr>\n",
       "      <th>2019-11-06</th>\n",
       "      <td>0.01465</td>\n",
       "      <td>0.01486</td>\n",
       "      <td>0.01430</td>\n",
       "      <td>0.01447</td>\n",
       "      <td>150238377.9</td>\n",
       "    </tr>\n",
       "    <tr>\n",
       "      <th>2019-11-07</th>\n",
       "      <td>0.01446</td>\n",
       "      <td>0.01542</td>\n",
       "      <td>0.01421</td>\n",
       "      <td>0.01512</td>\n",
       "      <td>237761244.4</td>\n",
       "    </tr>\n",
       "    <tr>\n",
       "      <th>2019-11-08</th>\n",
       "      <td>0.01512</td>\n",
       "      <td>0.01546</td>\n",
       "      <td>0.01379</td>\n",
       "      <td>0.01432</td>\n",
       "      <td>236014058.8</td>\n",
       "    </tr>\n",
       "  </tbody>\n",
       "</table>\n",
       "</div>"
      ],
      "text/plain": [
       "               open     high      low    close       volume\n",
       "timestamp                                                  \n",
       "2019-11-04  0.01354  0.01461  0.01351  0.01432  233424567.0\n",
       "2019-11-05  0.01428  0.01514  0.01395  0.01470  267620780.1\n",
       "2019-11-06  0.01465  0.01486  0.01430  0.01447  150238377.9\n",
       "2019-11-07  0.01446  0.01542  0.01421  0.01512  237761244.4\n",
       "2019-11-08  0.01512  0.01546  0.01379  0.01432  236014058.8"
      ]
     },
     "metadata": {},
     "output_type": "display_data"
    },
    {
     "data": {
      "text/html": [
       "<div>\n",
       "<style scoped>\n",
       "    .dataframe tbody tr th:only-of-type {\n",
       "        vertical-align: middle;\n",
       "    }\n",
       "\n",
       "    .dataframe tbody tr th {\n",
       "        vertical-align: top;\n",
       "    }\n",
       "\n",
       "    .dataframe thead th {\n",
       "        text-align: right;\n",
       "    }\n",
       "</style>\n",
       "<table border=\"1\" class=\"dataframe\">\n",
       "  <thead>\n",
       "    <tr style=\"text-align: right;\">\n",
       "      <th></th>\n",
       "      <th>open</th>\n",
       "      <th>high</th>\n",
       "      <th>low</th>\n",
       "      <th>close</th>\n",
       "      <th>volume</th>\n",
       "    </tr>\n",
       "    <tr>\n",
       "      <th>timestamp</th>\n",
       "      <th></th>\n",
       "      <th></th>\n",
       "      <th></th>\n",
       "      <th></th>\n",
       "      <th></th>\n",
       "    </tr>\n",
       "  </thead>\n",
       "  <tbody>\n",
       "    <tr>\n",
       "      <th>2019-11-04</th>\n",
       "      <td>0.01207</td>\n",
       "      <td>0.01375</td>\n",
       "      <td>0.01187</td>\n",
       "      <td>0.01322</td>\n",
       "      <td>35792381.4</td>\n",
       "    </tr>\n",
       "    <tr>\n",
       "      <th>2019-11-05</th>\n",
       "      <td>0.01337</td>\n",
       "      <td>0.01428</td>\n",
       "      <td>0.01306</td>\n",
       "      <td>0.01388</td>\n",
       "      <td>22125169.9</td>\n",
       "    </tr>\n",
       "    <tr>\n",
       "      <th>2019-11-06</th>\n",
       "      <td>0.01388</td>\n",
       "      <td>0.01393</td>\n",
       "      <td>0.01312</td>\n",
       "      <td>0.01356</td>\n",
       "      <td>18165110.2</td>\n",
       "    </tr>\n",
       "    <tr>\n",
       "      <th>2019-11-07</th>\n",
       "      <td>0.01362</td>\n",
       "      <td>0.01459</td>\n",
       "      <td>0.01301</td>\n",
       "      <td>0.01430</td>\n",
       "      <td>28812254.6</td>\n",
       "    </tr>\n",
       "    <tr>\n",
       "      <th>2019-11-08</th>\n",
       "      <td>0.01426</td>\n",
       "      <td>0.01446</td>\n",
       "      <td>0.01273</td>\n",
       "      <td>0.01344</td>\n",
       "      <td>20982057.5</td>\n",
       "    </tr>\n",
       "  </tbody>\n",
       "</table>\n",
       "</div>"
      ],
      "text/plain": [
       "               open     high      low    close      volume\n",
       "timestamp                                                 \n",
       "2019-11-04  0.01207  0.01375  0.01187  0.01322  35792381.4\n",
       "2019-11-05  0.01337  0.01428  0.01306  0.01388  22125169.9\n",
       "2019-11-06  0.01388  0.01393  0.01312  0.01356  18165110.2\n",
       "2019-11-07  0.01362  0.01459  0.01301  0.01430  28812254.6\n",
       "2019-11-08  0.01426  0.01446  0.01273  0.01344  20982057.5"
      ]
     },
     "metadata": {},
     "output_type": "display_data"
    },
    {
     "data": {
      "text/plain": [
       "1828"
      ]
     },
     "execution_count": 12,
     "metadata": {},
     "output_type": "execute_result"
    }
   ],
   "source": [
    "trx_data = pd.read_csv('Data/TRX_historical_data.csv', index_col='timestamp', parse_dates=True)\n",
    "matic_data = pd.read_csv('Data/MATIC_historical_data.csv', index_col='timestamp', parse_dates=True)\n",
    "ftm_data = pd.read_csv('Data/FTM_historical_data.csv', index_col='timestamp', parse_dates=True) \n",
    "\n",
    "\n",
    "#We get a vue of our data :\n",
    "display(trx_data.head(5))\n",
    "display(matic_data.head(5))\n",
    "display(ftm_data.head(5))\n",
    "\n",
    "#We create our data_frame\n",
    "df = pd.DataFrame({\n",
    "    'TRX': trx_data['close'],\n",
    "    'MATIC': matic_data['close'],\n",
    "    'FTM': ftm_data['close']\n",
    "})\n",
    "\n",
    "len(df)"
   ]
  },
  {
   "cell_type": "code",
   "execution_count": 10,
   "metadata": {},
   "outputs": [
    {
     "data": {
      "text/plain": [
       "55"
      ]
     },
     "execution_count": 10,
     "metadata": {},
     "output_type": "execute_result"
    }
   ],
   "source": [
    "#We check if our data is in the right format, in particular we check for missing data \n",
    "len(df[df.isna().any(axis=1)])\n"
   ]
  },
  {
   "cell_type": "markdown",
   "metadata": {},
   "source": [
    "Since some of our data is missing, a basic imputation method would be to replace the missing values by the mean. This method is the easiest imputation method to implement and has the advantage to preserve the central tendency. However, we should be cautious with it since it reduces variability and can distort relationships between variables. Thankfully, we only have 55 missing data accross our dataset, so we expect the overall variability to remain the same between our parameters."
   ]
  },
  {
   "cell_type": "code",
   "execution_count": null,
   "metadata": {},
   "outputs": [
    {
     "data": {
      "text/plain": [
       "0"
      ]
     },
     "execution_count": 11,
     "metadata": {},
     "output_type": "execute_result"
    }
   ],
   "source": [
    "df = df.fillna(df.mean())\n",
    "len(df[df.isna().any(axis=1)])"
   ]
  }
 ],
 "metadata": {
  "kernelspec": {
   "display_name": "base",
   "language": "python",
   "name": "python3"
  },
  "language_info": {
   "codemirror_mode": {
    "name": "ipython",
    "version": 3
   },
   "file_extension": ".py",
   "mimetype": "text/x-python",
   "name": "python",
   "nbconvert_exporter": "python",
   "pygments_lexer": "ipython3",
   "version": "3.12.4"
  }
 },
 "nbformat": 4,
 "nbformat_minor": 2
}
